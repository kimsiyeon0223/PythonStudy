{
  "nbformat": 4,
  "nbformat_minor": 0,
  "metadata": {
    "colab": {
      "provenance": [],
      "authorship_tag": "ABX9TyMK+0NyMwIYVB0vyPgU1UEj",
      "include_colab_link": true
    },
    "kernelspec": {
      "name": "python3",
      "display_name": "Python 3"
    },
    "language_info": {
      "name": "python"
    }
  },
  "cells": [
    {
      "cell_type": "markdown",
      "metadata": {
        "id": "view-in-github",
        "colab_type": "text"
      },
      "source": [
        "<a href=\"https://colab.research.google.com/github/kimsiyeon0223/PythonStudy/blob/master/set%2C_Dictionary_%EC%9E%90%EB%A3%8C%ED%98%95.ipynb\" target=\"_parent\"><img src=\"https://colab.research.google.com/assets/colab-badge.svg\" alt=\"Open In Colab\"/></a>"
      ]
    },
    {
      "cell_type": "markdown",
      "source": [
        "#< set 자료형 >\n",
        "##: 순서 X, 요소 변경 O, 중복된 값 X\n",
        "##: 순서가 없기 때문에 인덱싱(Indexing), 슬라이싱(slicing) 등의 연산을 지원하지 않는다.\n",
        "<br />\n",
        "\n",
        "## 1.set 자료형 생성\n",
        "```python\n",
        "# 1-1. 중괄호{}를 사용하여 생성하고, 각 요소는 쉼표(,)로 구분\n",
        "# 1-2. set()함수를 사용하여 생성\n",
        "\n",
        "set1 = {1, 2, 3} # 중괄호를 사용한 세트 생성\n",
        "set2 = set() # 빈 세트 생성\n",
        "set3 = set([1, 2, 3]) # 리스트를 이용한 세트 생성\n",
        "set4 = set('Hello') # 문자열을 이용한 세트 생성, 출력: {'e', 'H', 'l', 'o'}\n",
        "```\n",
        "<br />\n",
        "\n",
        "## 2. set 메서드\n",
        "```python\n",
        "# 2-1. 세트에 항목을 추가: add()\n",
        "s = {1, 2, 3}\n",
        "s.add(4)\n",
        "# s.add(2)\n",
        "print(s) # 출력: {1, 2, 3, 4}\n",
        "\n",
        "# 2-2. 주어진 값이 있는 항목을 제거: remove()\n",
        "s.remove(2)\n",
        "print(s) # 출력: {1, 3, 4}\n",
        "# s.remove(5) # 주어진 값이 없는 경우 에러 발생\n",
        "\n",
        "# 2-3. 주어진 값이 있는 항목을 제거: discard()\n",
        "s.discard(5) # 제거하려는 항목이 없어도 에러 발생 X\n",
        "```\n",
        "<br />\n",
        "\n",
        "##< 딕셔너리 자료형 >\n",
        "###: 키(key)와 값(value)의 쌍을 항목으로 가지는 자료형\n",
        "###: 중괄호{}로 표현, 각 항목은 콜론(:)으로 키와 값을 구분\n",
        "###: 키(key)를 통해 요솟값을 빠르게 검색 가능\n",
        "### 변경 가능 O, 키는 중복 X, 값은 중복 O\n",
        "<br />\n",
        "\n",
        "## 1. Dictionary 생성\n",
        "```python\n",
        "dict1 = {} # 빈 딕셔너리\n",
        "dict2 = {'name': 'Jun Gook', 'age': 29, 'city': 'Busan'}\n",
        "dict3 = dict(name='Jun Gook', age=29, city='Busan') # dict 함수를 이용한 딕셔너리\n",
        "```\n",
        "<br />\n",
        "\n",
        "## 2. 키를 사용해 값에 접근\n",
        "```python\n",
        "dict = {'name': 'Jun Gook', 'age': 28, 'city': 'Busan'}\n",
        "print(dict['name']) # 출력: Jun Gook\n",
        "```\n",
        "<br />\n",
        "\n",
        "## 3. Dictionary에 항목 추가/수정/삭제\n",
        "```python\n",
        "dict['age'] = 29 # 기존 키의 값을 수정\n",
        "dict['country'] = 'Korea' # 새로운 키와 값을 추가\n",
        "print(dict)\n",
        "\n",
        "del dict['country'] # 키 'country'의 항목 삭제\n",
        "print(dict)\n",
        "```"
      ],
      "metadata": {
        "id": "FC2qIG2RhkZc"
      }
    }
  ]
}
