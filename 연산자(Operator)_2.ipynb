{
  "nbformat": 4,
  "nbformat_minor": 0,
  "metadata": {
    "colab": {
      "provenance": [],
      "authorship_tag": "ABX9TyNtha1azHm/X/OmhPx6RSjs",
      "include_colab_link": true
    },
    "kernelspec": {
      "name": "python3",
      "display_name": "Python 3"
    },
    "language_info": {
      "name": "python"
    }
  },
  "cells": [
    {
      "cell_type": "markdown",
      "metadata": {
        "id": "view-in-github",
        "colab_type": "text"
      },
      "source": [
        "<a href=\"https://colab.research.google.com/github/kimsiyeon0223/PythonStudy/blob/master/%EC%97%B0%EC%82%B0%EC%9E%90(Operator)_2.ipynb\" target=\"_parent\"><img src=\"https://colab.research.google.com/assets/colab-badge.svg\" alt=\"Open In Colab\"/></a>"
      ]
    },
    {
      "cell_type": "markdown",
      "source": [
        "# 1. 비트 연산자\n",
        "## : 피연산자를 이진 비트(bit) 수준에서 조작하는 연산자\n",
        "\n",
        "## 1-1. 비트 ADN 연산자 (&)\n",
        "### : 각 비트를 비교해 모두 1이면 1를 반환, 그 이외에는 0을 반환\n",
        "```python\n",
        "a = 60 # 60 = 0011 1100\n",
        "b = 13 # 13 = 0000 1101\n",
        "print(a & b) # 0000 1100 (출력값 : 12)\n",
        "```\n",
        "<br/>\n",
        "\n",
        "## 1-2. 비트 OR 연산자 (|)\n",
        "### : 각 비트를 비교해 하나라도 1이면 1을 반환, 모두 0일 경우에만 0을 반환\n",
        "```python\n",
        "print(a | b) # 0011 1101 (출력값 : 61)\n",
        "```\n",
        "<br />\n",
        "\n",
        "## 1-3. 비트 XOR 연산자 (^)\n",
        "### : 각 비트를 비교해 서로 다르면 1를 반환 같으면 0을 반환\n",
        "<br />\n",
        "\n",
        "## 1-4. 비트 NOT 연산자 (~)\n",
        "### : 각 비트를 반전\n",
        "<br />\n",
        "\n",
        "## 1-5. 비트 왼쪽 시프트 연산자(<<)\n",
        "### : 비트 단위로 왼쪽으로 N비트 이동하면 2의 N 거듭제곱만큼 곱셈\n",
        "```python\n",
        "a = 60\n",
        "print(a << 2)\n",
        "```\n",
        "<br />\n",
        "\n",
        "## 1-6. 비트 오른쪽 시프트 연산자 (>>)\n",
        "### : 비트 단위로 오른쪽으로 N 비트 이동하면 2의 N 거듭제곱만큼 곱셈\n",
        "```python\n",
        "a = 60\n",
        "print(a >> 2)\n",
        "```\n",
        "<br />\n",
        "\n",
        "# 2. 시퀀스 연산자\n",
        "## : 시퀀스 (sequence) : 데이터의 순차적인 나열을 의미\n",
        "### ex) 리스트, 튜플, 문자열 등\n",
        "\n",
        "## 2-1. 결합 연산자 (+)\n",
        "```python\n",
        "list1 = [1, 2, 3]\n",
        "list2 = [4, 5, 6]\n",
        "print(list1 + list2)\n",
        "\n",
        "# 복제 연산자\n",
        "print(list1 * 3)\n",
        "\n",
        "\n",
        "### 기타 연산자 ###\n",
        "# 멤버십 연산자\n",
        "# : 어떤 값이 지정된 컬렉션에 포함되어 있는지 확인하는 데 사용\n",
        "\n",
        "list = [1, 2, 3, 4, 5]\n",
        "str = \"Hello, Python\"\n",
        "\n",
        "# in 연산자\n",
        "# : 시퀸스나 컬렉션에 특정 요소가 포함되어 있으면 True\n",
        "# : 그렇지 않으면 False를 반환\n",
        "print(3 in list) # True\n",
        "print(6 in list) # False\n",
        "\n",
        "print('Python' in str) # True\n",
        "print('World' in str) # False\n",
        "\n",
        "# not in 연산자\n",
        "# : 시퀸스나 컬렉션에 특정 요소가 포함되어 있지 않으면 True\n",
        "# : 포함되어 있으면 False를 반환\n",
        "print(3 not in list) # False\n",
        "print(6 not in list) # True\n",
        "\n",
        "print('Python' not in str) # Fasle\n",
        "print('World' not in str) # True\n",
        "```\n",
        "<br />\n",
        "<br />\n",
        "\n",
        "## <연산자의 우선순위>\n",
        "### 1. 괄호 ()\n",
        "### 2. 지수 연산자 **\n",
        "### 3. 부호 연산자(양수, 음수) +x, -y\n",
        "### 4. 곱셈, 나눗셈, 나머지, 몫\n",
        "### 5. 덧셈, 뺄셈"
      ],
      "metadata": {
        "id": "kDhxGt_HzsbW"
      }
    }
  ]
}