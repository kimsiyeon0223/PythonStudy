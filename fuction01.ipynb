{
  "nbformat": 4,
  "nbformat_minor": 0,
  "metadata": {
    "colab": {
      "provenance": [],
      "authorship_tag": "ABX9TyNL5KM5W5+jWl5DDl12eLtd",
      "include_colab_link": true
    },
    "kernelspec": {
      "name": "python3",
      "display_name": "Python 3"
    },
    "language_info": {
      "name": "python"
    }
  },
  "cells": [
    {
      "cell_type": "markdown",
      "metadata": {
        "id": "view-in-github",
        "colab_type": "text"
      },
      "source": [
        "<a href=\"https://colab.research.google.com/github/kimsiyeon0223/PythonStudy/blob/master/fuction01.ipynb\" target=\"_parent\"><img src=\"https://colab.research.google.com/assets/colab-badge.svg\" alt=\"Open In Colab\"/></a>"
      ]
    },
    {
      "cell_type": "markdown",
      "source": [
        "#내장 함수(Built-in Function)\n",
        "## : 파이썬(프로그램)이 기본적으로 제공하는 함수<br />\n",
        "##별도의 라이브러리나 모듈을 불러오지 않고도 사용 가능(import 하지 않아도 사용 가능)\n",
        "<br />\n",
        "\n",
        "## 문자열 내장 함수\n",
        "<br />\n",
        "\n",
        "## 1. chr() 함수\n",
        "### : 문자 자신만이 가지는 코드 값(문자 코드 - 유니코드)를 반환\n",
        "### : 문자 코드에는 미국 표준 코드(아스키코드), 국제 표준 코드(유니코드) 등이 있다.\n",
        "```python\n",
        "print(chr(65))\n",
        "print(chr(97))\n",
        "```\n",
        "<br />\n",
        "\n",
        "## 2. ord() 함수\n",
        "### : 문자를 전달하면 해당 문자의 유니코드 값을 반환\n",
        "```python\n",
        "print(ord('A'))\n",
        "print(ord('a'))\n",
        "```\n",
        "<br />\n",
        "\n",
        "## 3. eval() 함수\n",
        "### : 실행하고자 하는 표현식을 문자열로 전달하면 표현식의 결괏값을 반환\n",
        "```python\n",
        "print(eval('100+200'))\n",
        "\n",
        "a = 10\n",
        "print(eval('a * 5'))\n",
        "\n",
        "# format() 함수\n",
        "# : 전달받은 인수와 포맷 코드에 따라 형식을 갖춘 문자열을 반환\n",
        "\n",
        "print(format(10000)) # 숫자형 10000이 문자형 '10000'으로 출력\n",
        "print(format(10000, ',')) # 숫자를 천 단위로 표현할 때 사용\n",
        "\n",
        "# str() 함수\n",
        "# 전달받은 값을 문자열로 반환\n",
        "print(str(10))\n",
        "print(str(1.5))\n",
        "```\n",
        "\n"
      ],
      "metadata": {
        "id": "YuYrKIin68FA"
      }
    }
  ]
}
