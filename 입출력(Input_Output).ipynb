{
  "nbformat": 4,
  "nbformat_minor": 0,
  "metadata": {
    "colab": {
      "provenance": [],
      "authorship_tag": "ABX9TyM/c2EIPoSaAK8YTInyiWIg",
      "include_colab_link": true
    },
    "kernelspec": {
      "name": "python3",
      "display_name": "Python 3"
    },
    "language_info": {
      "name": "python"
    }
  },
  "cells": [
    {
      "cell_type": "markdown",
      "metadata": {
        "id": "view-in-github",
        "colab_type": "text"
      },
      "source": [
        "<a href=\"https://colab.research.google.com/github/kimsiyeon0223/PythonStudy/blob/master/%EC%9E%85%EC%B6%9C%EB%A0%A5(Input_Output).ipynb\" target=\"_parent\"><img src=\"https://colab.research.google.com/assets/colab-badge.svg\" alt=\"Open In Colab\"/></a>"
      ]
    },
    {
      "cell_type": "markdown",
      "source": [
        "## 파이썬의 입출력(Input/Output)\n",
        "<br />\n",
        "\n",
        "### 1. 입력 : input()함수\n",
        "##### : 사용자로부터 키보드로 입력을 받는 파이썬 내장 함수\n",
        "```python\n",
        "name = input('이름을 입력하세요 : ')\n",
        "```\n",
        "<br/>\n",
        "\n",
        "###input() 함수와 형 변환\n",
        "#### 1-2. 정수로 변환 : int()함수\n",
        "```python\n",
        "string = input('정수를 입력하세요 : ')\n",
        "number = int(string)\n",
        "```\n",
        "<br />\n",
        "\n",
        "####1-2. 실수로 변환 : float()함수\n",
        "```python\n",
        "string = input('정수를 입력하세요 : ')\n",
        "float = float(string)\n",
        "```\n",
        "<br />\n",
        "\n",
        "### 2. 출력 : print()함수\n",
        "##### : 값을 출력하는 파이썬 내장 함수\n",
        "```python\n",
        "print('안녕하세요, ', name, '님!')\n",
        "```\n",
        "<br />\n",
        "\n",
        "##< 형식화 된 출력 >\n",
        "#### %s : 문자열(모든 타입)\n",
        "#### %d : 숫자\n",
        "```python\n",
        "name = '떵혀니?'\n",
        "age = 8000\n",
        "print('이름 : %s, 나이 : %d'% (name, age))\n",
        "```"
      ],
      "metadata": {
        "id": "yLh7dwAZHLR3"
      }
    }
  ]
}
