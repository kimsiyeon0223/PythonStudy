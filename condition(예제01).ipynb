{
  "nbformat": 4,
  "nbformat_minor": 0,
  "metadata": {
    "colab": {
      "provenance": [],
      "authorship_tag": "ABX9TyNYvIW3qOsI0T/nvZIH2qON",
      "include_colab_link": true
    },
    "kernelspec": {
      "name": "python3",
      "display_name": "Python 3"
    },
    "language_info": {
      "name": "python"
    }
  },
  "cells": [
    {
      "cell_type": "markdown",
      "metadata": {
        "id": "view-in-github",
        "colab_type": "text"
      },
      "source": [
        "<a href=\"https://colab.research.google.com/github/kimsiyeon0223/PythonStudy/blob/master/condition(%EC%98%88%EC%A0%9C01).ipynb\" target=\"_parent\"><img src=\"https://colab.research.google.com/assets/colab-badge.svg\" alt=\"Open In Colab\"/></a>"
      ]
    },
    {
      "cell_type": "markdown",
      "source": [
        "\n",
        "### 1. if문 : 임의의 정수 3개를 입력받아 그 중에서 가장 큰 수를 출력하는 프로그램을 구현하세요.\n",
        "\n",
        "### 관계 연산자, 논리 연산자\n",
        "```python\n",
        "# 사용자로부터 3개의 정수를 입력 받기.\n",
        "num1 = int(input('첫 번째 숫자를 입력하세요 : '))\n",
        "num2 = int(input('두 번째 숫자를 입력하세요 : '))\n",
        "num3 = int(input('세 번째 숫자를 입력하세요 : '))\n",
        "\n",
        "# 관계 연산자 & 논리 연산자를 이용하여 가장 큰 수를 확인하고 출력\n",
        "if (num1 >= num2) and (num1 >= num3):\n",
        "    largest = num1\n",
        "elif (num2 >= num1) and (num2 >= num3):\n",
        "    largest = num2\n",
        "else:\n",
        "    largest = num3\n",
        "\n",
        "print('가장 큰 수는', largest, '입니다.')\n",
        "```\n",
        "<br />\n",
        "\n",
        "### 2. if문: 미세먼지 저감 활동의 힐환으로 차량 2부제를 실시하고자 합니다.\n",
        "```python\n",
        "# 사용자로부터 차량번호를 입력받아 차량번호가 짝수로 끝나면 '운행가능'\n",
        "# , 아니면 '운행불가'를 출력하는 프로그램을 구현하세요.\n",
        "# 단, 차량번호는 '237가 1234'와 같은 형식으로 입력받는다고 가정합니다.\n",
        "\n",
        "# 사용자로부터 차량 번호를 입력받기.\n",
        "car_number = input('차량 번호를 입력하세요(예: 237가 1234) : ')\n",
        "\n",
        "# 입력 받은 차량 번호에서 마지막 숫자를 추출\n",
        "last_digit = int(car_number[-1]) # '4' -> 4\n",
        "\n",
        "# 마지막 숫자가 짝수인지 홀수인지 판별\n",
        "if last_digit % 2 == 0:\n",
        "    print('운행 가능')\n",
        "else:\n",
        "    print('운행 불가')\n",
        "```\n",
        "<br />\n",
        "\n",
        "### 1. 1부터 5사이에 존재하는 모든 정수를 역순으로 출력하는 프로그램을 구현\n",
        "<br />\n",
        "\n",
        "```python\n",
        "# range()함수 - 세 개의 인자(범위 시작점, 범위 끝점, 간격)\n",
        "for i in range(5, 0, -1):\n",
        "    print(i)\n",
        "```\n",
        "<br />\n",
        "\n",
        "### 2. 사용자로부터 임의의 양의 정수를 하나 입력받은 뒤\n",
        "```python\n",
        "# 그 숫자만큼 '과일 이름'을 입력받아 basket 리스트에 저장하는 프로그램을 구현\n",
        "\n",
        "# 사용자로부터 임의의 양의 정수 입력 받기\n",
        "num_of_fruits = int(input('입력할 과일의 개수를 입력하세요 : '))\n",
        "\n",
        "# basket 빈 리스트 생성\n",
        "basket = []\n",
        "\n",
        "# 입력받은 숫자만큼 반복하면서 과일 이름을 입력 받고 리스트에 추가\n",
        "for i in range(num_of_fruits):\n",
        "    fruit = input('과일 이름을 입력하세요 : ')\n",
        "    basket.append(fruit)\n",
        "\n",
        "print('과일 바구니 : ', basket)\n",
        "```\n",
        "<br />\n",
        "\n",
        "### 3. for문: 1부터 10까지의 숫자 중에서 짝수만 출력하는 파이썬 프로그램을 작성하십시오.\n",
        "```python\n",
        "for i in range(1, 11):  # 1부터 10까지의 숫자를 순회합니다.\n",
        "    if i % 2 == 0:  # 숫자가 짝수인지 확인합니다.\n",
        "        print(i)  # 짝수일 경우, 해당 숫자를 출력합니다.\n",
        "```\n",
        "\n"
      ],
      "metadata": {
        "id": "Dx1wj6lgfMd6"
      }
    }
  ]
}