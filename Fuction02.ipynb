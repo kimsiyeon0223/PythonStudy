{
  "nbformat": 4,
  "nbformat_minor": 0,
  "metadata": {
    "colab": {
      "provenance": [],
      "authorship_tag": "ABX9TyMGHipl7uhSJBwWECiyzp/7",
      "include_colab_link": true
    },
    "kernelspec": {
      "name": "python3",
      "display_name": "Python 3"
    },
    "language_info": {
      "name": "python"
    }
  },
  "cells": [
    {
      "cell_type": "markdown",
      "metadata": {
        "id": "view-in-github",
        "colab_type": "text"
      },
      "source": [
        "<a href=\"https://colab.research.google.com/github/kimsiyeon0223/PythonStudy/blob/master/Fuction02.ipynb\" target=\"_parent\"><img src=\"https://colab.research.google.com/assets/colab-badge.svg\" alt=\"Open In Colab\"/></a>"
      ]
    },
    {
      "cell_type": "markdown",
      "source": [
        "#파이썬 내장 함수(Built-in Function)\n",
        "\n",
        "## 숫자형 내장 함수\n",
        "<br />\n",
        "\n",
        "## 1. abs()\n",
        "### abs(x): 숫자의 절대값을 반환 (x는 정수 또는 실수)\n",
        "```python\n",
        "print(abs(-5))\n",
        "print(abs(3.14))\n",
        "```\n",
        "<br />\n",
        "\n",
        "## 2. divmod()\n",
        "### divmod(a, b): a를 b로 나눈 몫과 나머지를 튜플 형태로 반환\n",
        "```python\n",
        "print(divmod(14, 4)) # (3, 2) -> 몫: 3, 나머지: 2\n",
        "```\n",
        "<br />\n",
        "\n",
        "## 3. float() & int()\n",
        "### 문자열 또는 숫자를 실수 & 정수로 변환\n",
        "```python\n",
        "print(float(3)) # 3.0\n",
        "print(int(3.14)) # 3\n",
        "```\n",
        "<br />\n",
        "\n",
        "## 4. max() & min()\n",
        "### max(iterable) 또는 max(데이터1, 데이터2, ...) 중에서 가장 큰 값을 반환\n",
        "```python\n",
        "print(max([1, 2, 3, 4, 5])) # 5\n",
        "print(max(543, 24, 636, 12, 655)) # 655\n",
        "\n",
        "print(min([1, 2, 3, 4, 5])) # 1\n",
        "print(min(543, 24, 636, 12, 655)) # 12\n",
        "\n",
        "# pow()\n",
        "# pow(x, y): x의 y제곱한 결과를 반환\n",
        "\n",
        "print(pow(2, 3)) # 2의 3제곱 = 8\n",
        "\n",
        "# round()\n",
        "# round(number, ndigits(소수점자리숫자))\n",
        "# : 숫자를 ndigits 소수점 자리까지 반올림한 결과를 반환\n",
        "# : ndigits 생략 시 기본값은 0\n",
        "\n",
        "print(round(3.14159, 2)) # 3.14\n",
        "print(round(3.14159)) # 3\n",
        "\n",
        "# sum()\n",
        "# sum(iterable, start): iterable의 모든 항목과 시작값을 더한 결과를 반환\n",
        "# start 생략 시 iterable값들만을 더한 결과를 반환 (시작값이 0)\n",
        "\n",
        "print(sum([1, 2, 3, 4, 5])) # 15\n",
        "print(sum([1, 2, 3, 4, 5], 10)) # 25 -> 10을 시작값으로 사용\n",
        "```"
      ],
      "metadata": {
        "id": "_WjoyxFuet67"
      }
    }
  ]
}
